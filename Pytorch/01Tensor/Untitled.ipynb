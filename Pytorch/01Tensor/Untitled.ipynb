{
 "cells": [
  {
   "cell_type": "code",
   "execution_count": 12,
   "id": "8f192e6d-b6fa-416d-9e80-38956547a442",
   "metadata": {},
   "outputs": [],
   "source": [
    "import torch as t"
   ]
  },
  {
   "cell_type": "code",
   "execution_count": 13,
   "id": "34bdf742-160f-4059-95fe-212fbfa52e97",
   "metadata": {},
   "outputs": [
    {
     "name": "stdout",
     "output_type": "stream",
     "text": [
      "2.5.1+cu124\n"
     ]
    }
   ],
   "source": [
    "print(torch.__version__)"
   ]
  },
  {
   "cell_type": "code",
   "execution_count": 14,
   "id": "818e2948-f9a5-4635-8473-1764a2d73a39",
   "metadata": {},
   "outputs": [
    {
     "name": "stdout",
     "output_type": "stream",
     "text": [
      "GPU is available\n",
      "GPU is  NVIDIA GeForce GTX 1650\n"
     ]
    }
   ],
   "source": [
    "if torch.cuda.is_available():\n",
    "    print(\"GPU is available\")\n",
    "    print(\"GPU is \",torch.cuda.get_device_name())\n",
    "else:\n",
    "    print(\"GPU is not available\")"
   ]
  },
  {
   "cell_type": "code",
   "execution_count": 17,
   "id": "c4d584a4-a360-462d-9370-2203ec61a7f1",
   "metadata": {},
   "outputs": [
    {
     "data": {
      "text/plain": [
       "tensor([[1.4239e-12, 0.0000e+00, 0.0000e+00],\n",
       "        [0.0000e+00, 4.4842e-44, 0.0000e+00]])"
      ]
     },
     "execution_count": 17,
     "metadata": {},
     "output_type": "execute_result"
    }
   ],
   "source": [
    "# creating tensor in pytorch\n",
    "t.empty(2,3) #it allocate memory for us "
   ]
  },
  {
   "cell_type": "code",
   "execution_count": 18,
   "id": "aceff0eb-c19e-448b-9696-db48e7fcd146",
   "metadata": {},
   "outputs": [
    {
     "data": {
      "text/plain": [
       "tensor([[0., 0., 0.],\n",
       "        [0., 0., 0.],\n",
       "        [0., 0., 0.]])"
      ]
     },
     "execution_count": 18,
     "metadata": {},
     "output_type": "execute_result"
    }
   ],
   "source": [
    "# using zeros\n",
    "t.zeros(3,3)"
   ]
  },
  {
   "cell_type": "code",
   "execution_count": 19,
   "id": "a50687e4-ace1-438f-96c8-74cce808cfaa",
   "metadata": {},
   "outputs": [
    {
     "data": {
      "text/plain": [
       "tensor([[1., 1.],\n",
       "        [1., 1.]])"
      ]
     },
     "execution_count": 19,
     "metadata": {},
     "output_type": "execute_result"
    }
   ],
   "source": [
    "# using ones\n",
    "t.ones(2,2)"
   ]
  },
  {
   "cell_type": "code",
   "execution_count": 20,
   "id": "b7fe72ae-3155-4e12-b60f-90d707bb1997",
   "metadata": {},
   "outputs": [
    {
     "data": {
      "text/plain": [
       "tensor([[0.0082, 0.5671, 0.4668],\n",
       "        [0.1098, 0.5120, 0.1871],\n",
       "        [0.3798, 0.3834, 0.4747]])"
      ]
     },
     "execution_count": 20,
     "metadata": {},
     "output_type": "execute_result"
    }
   ],
   "source": [
    "# using rand\n",
    "t.rand(3,3)"
   ]
  },
  {
   "cell_type": "code",
   "execution_count": 23,
   "id": "4a874e62-a732-4b72-aecd-f25014963ee9",
   "metadata": {},
   "outputs": [
    {
     "data": {
      "text/plain": [
       "tensor([[0.4581, 0.4829],\n",
       "        [0.3125, 0.6150]])"
      ]
     },
     "execution_count": 23,
     "metadata": {},
     "output_type": "execute_result"
    }
   ],
   "source": [
    "# manual seed \n",
    "t.manual_seed(10)\n",
    "t.rand(2,2)"
   ]
  },
  {
   "cell_type": "code",
   "execution_count": 25,
   "id": "7b7284df-290c-40b2-83ef-7661c25504a0",
   "metadata": {},
   "outputs": [
    {
     "data": {
      "text/plain": [
       "tensor([[2],\n",
       "        [3]])"
      ]
     },
     "execution_count": 25,
     "metadata": {},
     "output_type": "execute_result"
    }
   ],
   "source": [
    "# using tensor or making custom tensor\n",
    "t.tensor([[2],[3]])"
   ]
  },
  {
   "cell_type": "code",
   "execution_count": 26,
   "id": "d144eb38-2569-443e-bd43-2f02294e5511",
   "metadata": {},
   "outputs": [
    {
     "data": {
      "text/plain": [
       "tensor([0, 1, 2, 3, 4])"
      ]
     },
     "execution_count": 26,
     "metadata": {},
     "output_type": "execute_result"
    }
   ],
   "source": [
    "# arrange\n",
    "t.arange(0,5,1)"
   ]
  },
  {
   "cell_type": "code",
   "execution_count": 30,
   "id": "adde6f12-9281-4df5-adce-211dcddee094",
   "metadata": {},
   "outputs": [
    {
     "data": {
      "text/plain": [
       "tensor([1., 6.])"
      ]
     },
     "execution_count": 30,
     "metadata": {},
     "output_type": "execute_result"
    }
   ],
   "source": [
    "# using linspace it is linear space\n",
    "t.linspace(1,6,2)"
   ]
  },
  {
   "cell_type": "code",
   "execution_count": 31,
   "id": "d066afaf-1cd2-442e-bd5e-bc94f4c94a39",
   "metadata": {},
   "outputs": [
    {
     "data": {
      "text/plain": [
       "tensor([[1., 0., 0., 0., 0.],\n",
       "        [0., 1., 0., 0., 0.],\n",
       "        [0., 0., 1., 0., 0.],\n",
       "        [0., 0., 0., 1., 0.],\n",
       "        [0., 0., 0., 0., 1.]])"
      ]
     },
     "execution_count": 31,
     "metadata": {},
     "output_type": "execute_result"
    }
   ],
   "source": [
    "# using eye or identity matrix or tensor\n",
    "t.eye(5)"
   ]
  },
  {
   "cell_type": "code",
   "execution_count": 33,
   "id": "cdb42b65-876d-4848-8fdf-bdfe695cdfc2",
   "metadata": {},
   "outputs": [
    {
     "data": {
      "text/plain": [
       "tensor([[3, 3],\n",
       "        [3, 3]])"
      ]
     },
     "execution_count": 33,
     "metadata": {},
     "output_type": "execute_result"
    }
   ],
   "source": [
    "# using full it fill with costum values\n",
    "t.full((2,2),3)"
   ]
  },
  {
   "cell_type": "code",
   "execution_count": 34,
   "id": "a0befcdc-a68e-46ba-83c1-37e8dea30a30",
   "metadata": {},
   "outputs": [],
   "source": [
    "# tensor shapes\n"
   ]
  },
  {
   "cell_type": "code",
   "execution_count": 37,
   "id": "8f92c7d7-b7c7-4d6d-a7e3-624fe127d614",
   "metadata": {},
   "outputs": [],
   "source": [
    "x = t.tensor([[1,2,3],[4,5,6]])"
   ]
  },
  {
   "cell_type": "code",
   "execution_count": 38,
   "id": "ce511155-d348-43e5-969c-61c160f418dd",
   "metadata": {},
   "outputs": [
    {
     "data": {
      "text/plain": [
       "tensor([[1, 2, 3],\n",
       "        [4, 5, 6]])"
      ]
     },
     "execution_count": 38,
     "metadata": {},
     "output_type": "execute_result"
    }
   ],
   "source": [
    "x"
   ]
  },
  {
   "cell_type": "code",
   "execution_count": 39,
   "id": "4b888340-c5ed-461a-bff4-6fb5115ef13f",
   "metadata": {},
   "outputs": [
    {
     "data": {
      "text/plain": [
       "torch.Size([2, 3])"
      ]
     },
     "execution_count": 39,
     "metadata": {},
     "output_type": "execute_result"
    }
   ],
   "source": [
    "x.shape"
   ]
  },
  {
   "cell_type": "code",
   "execution_count": 40,
   "id": "60a153ba-bacb-44a5-8799-82a8e8c22dac",
   "metadata": {},
   "outputs": [
    {
     "data": {
      "text/plain": [
       "tensor([[          771331272,                   0, 7090410953182806015],\n",
       "        [8315178084276987250, 7009357371389667167,     419059965719404]])"
      ]
     },
     "execution_count": 40,
     "metadata": {},
     "output_type": "execute_result"
    }
   ],
   "source": [
    " # if you wnat to make tensor with same previous tensor shape\n",
    "t.empty_like(x)"
   ]
  },
  {
   "cell_type": "code",
   "execution_count": 41,
   "id": "5f527e85-28df-4b8b-9305-79484561dca4",
   "metadata": {},
   "outputs": [
    {
     "data": {
      "text/plain": [
       "tensor([[0, 0, 0],\n",
       "        [0, 0, 0]])"
      ]
     },
     "execution_count": 41,
     "metadata": {},
     "output_type": "execute_result"
    }
   ],
   "source": [
    "# or we also have \n",
    "t.zeros_like(x)"
   ]
  },
  {
   "cell_type": "code",
   "execution_count": 42,
   "id": "83130dd2-7bd9-4ec5-ab26-69e4743ac8d2",
   "metadata": {},
   "outputs": [
    {
     "data": {
      "text/plain": [
       "tensor([[1, 1, 1],\n",
       "        [1, 1, 1]])"
      ]
     },
     "execution_count": 42,
     "metadata": {},
     "output_type": "execute_result"
    }
   ],
   "source": [
    "# or \n",
    "t.ones_like(x)"
   ]
  },
  {
   "cell_type": "code",
   "execution_count": 43,
   "id": "d5875cc1-a18d-4913-8670-df28845f0c20",
   "metadata": {},
   "outputs": [
    {
     "data": {
      "text/plain": [
       "torch.int64"
      ]
     },
     "execution_count": 43,
     "metadata": {},
     "output_type": "execute_result"
    }
   ],
   "source": [
    "# tensor datat type\n",
    "x.dtype"
   ]
  },
  {
   "cell_type": "code",
   "execution_count": 44,
   "id": "77aa6f76-8ab6-4b13-8d9f-db4990f8cb37",
   "metadata": {},
   "outputs": [],
   "source": [
    "# we can specify data type \n",
    "y = t.tensor([[1,2,3],[2,3,4]],dtype=t.float32)"
   ]
  },
  {
   "cell_type": "code",
   "execution_count": 45,
   "id": "ee8afaba-e1b6-461d-bb32-382bd243ef43",
   "metadata": {},
   "outputs": [
    {
     "data": {
      "text/plain": [
       "tensor([[1., 2., 3.],\n",
       "        [2., 3., 4.]])"
      ]
     },
     "execution_count": 45,
     "metadata": {},
     "output_type": "execute_result"
    }
   ],
   "source": [
    "y"
   ]
  },
  {
   "cell_type": "code",
   "execution_count": 46,
   "id": "07bbe3b5-c905-48c9-b0f8-d5f047b93273",
   "metadata": {},
   "outputs": [
    {
     "data": {
      "text/plain": [
       "tensor([[1, 2, 3],\n",
       "        [2, 3, 4]], dtype=torch.int32)"
      ]
     },
     "execution_count": 46,
     "metadata": {},
     "output_type": "execute_result"
    }
   ],
   "source": [
    "# also we can change it \n",
    "y.to(t.int32)"
   ]
  },
  {
   "cell_type": "code",
   "execution_count": null,
   "id": "027aea1f-0acf-4814-b96d-22ecb28b82b0",
   "metadata": {},
   "outputs": [],
   "source": []
  }
 ],
 "metadata": {
  "kernelspec": {
   "display_name": "Python 3 (ipykernel)",
   "language": "python",
   "name": "python3"
  },
  "language_info": {
   "codemirror_mode": {
    "name": "ipython",
    "version": 3
   },
   "file_extension": ".py",
   "mimetype": "text/x-python",
   "name": "python",
   "nbconvert_exporter": "python",
   "pygments_lexer": "ipython3",
   "version": "3.12.3"
  }
 },
 "nbformat": 4,
 "nbformat_minor": 5
}
