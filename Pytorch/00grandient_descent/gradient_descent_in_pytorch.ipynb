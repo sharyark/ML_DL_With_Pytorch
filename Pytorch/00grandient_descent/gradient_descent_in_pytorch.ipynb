{
 "cells": [
  {
   "cell_type": "code",
   "execution_count": 1,
   "metadata": {},
   "outputs": [],
   "source": [
    "import torch\n",
    "import numpy as np\n",
    "import matplotlib.pyplot as plt\n"
   ]
  },
  {
   "cell_type": "markdown",
   "metadata": {},
   "source": [
    "here is simple example of gradiant descent algorithm"
   ]
  },
  {
   "cell_type": "code",
   "execution_count": 2,
   "metadata": {},
   "outputs": [
    {
     "name": "stdout",
     "output_type": "stream",
     "text": [
      "Epoch 0: Loss = 22.19373321533203\n",
      "Epoch 10: Loss = 0.3867303133010864\n",
      "Epoch 20: Loss = 0.21049411594867706\n",
      "Epoch 30: Loss = 0.20906980335712433\n",
      "Epoch 40: Loss = 0.2090582698583603\n",
      "Epoch 50: Loss = 0.20905819535255432\n",
      "Epoch 60: Loss = 0.20905816555023193\n",
      "Epoch 70: Loss = 0.20905819535255432\n",
      "Epoch 80: Loss = 0.20905819535255432\n",
      "Epoch 90: Loss = 0.20905819535255432\n",
      "Trained parameters: w = 2.940511465072632, b = 2.0798394680023193\n"
     ]
    }
   ],
   "source": [
    "\n",
    "# Generate example data\n",
    "def generate_data():\n",
    "    torch.manual_seed(0)\n",
    "    X = torch.randn(100, 1)\n",
    "    y = 3 * X + 2 + torch.randn(100, 1) * 0.5  # y = 3x + 2 + noise\n",
    "    return X, y\n",
    "\n",
    "# Initialize model parameters\n",
    "def initialize_params():\n",
    "    w = torch.randn(1, requires_grad=True)\n",
    "    b = torch.randn(1, requires_grad=True)\n",
    "    return w, b\n",
    "\n",
    "# Model prediction\n",
    "def predict(X, w, b):\n",
    "    return X * w + b\n",
    "\n",
    "# Loss function (Mean Squared Error)\n",
    "def compute_loss(y_pred, y):\n",
    "    return ((y_pred - y) ** 2).mean()\n",
    "\n",
    "# Gradient Descent Step\n",
    "def gradient_descent_step(X, y, w, b, learning_rate):\n",
    "    y_pred = predict(X, w, b)\n",
    "    loss = compute_loss(y_pred, y)\n",
    "    loss.backward()  # Compute gradients\n",
    "\n",
    "    # Update parameters\n",
    "    with torch.no_grad():\n",
    "        w -= learning_rate * w.grad\n",
    "        b -= learning_rate * b.grad\n",
    "\n",
    "    # Zero gradients\n",
    "    w.grad.zero_()\n",
    "    b.grad.zero_()\n",
    "\n",
    "    return loss.item()\n",
    "\n",
    "# Training loop\n",
    "def train(X, y, learning_rate, epochs):\n",
    "    w, b = initialize_params()\n",
    "    for epoch in range(epochs):\n",
    "        loss = gradient_descent_step(X, y, w, b, learning_rate)\n",
    "        if epoch % 10 == 0:\n",
    "            print(f\"Epoch {epoch}: Loss = {loss}\")\n",
    "    return w, b\n",
    "\n",
    "# Main function\n",
    "def main():\n",
    "    X, y = generate_data()\n",
    "    learning_rate = 0.1\n",
    "    epochs = 100\n",
    "    w, b = train(X, y, learning_rate, epochs)\n",
    "    print(f\"Trained parameters: w = {w.item()}, b = {b.item()}\")\n",
    "\n",
    "main()\n"
   ]
  },
  {
   "cell_type": "code",
   "execution_count": null,
   "metadata": {},
   "outputs": [],
   "source": []
  }
 ],
 "metadata": {
  "kernelspec": {
   "display_name": "myenv",
   "language": "python",
   "name": "python3"
  },
  "language_info": {
   "codemirror_mode": {
    "name": "ipython",
    "version": 3
   },
   "file_extension": ".py",
   "mimetype": "text/x-python",
   "name": "python",
   "nbconvert_exporter": "python",
   "pygments_lexer": "ipython3",
   "version": "3.12.3"
  }
 },
 "nbformat": 4,
 "nbformat_minor": 2
}
